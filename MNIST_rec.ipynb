{
  "nbformat": 4,
  "nbformat_minor": 0,
  "metadata": {
    "colab": {
      "name": "MNIST rec.ipynb",
      "provenance": []
    },
    "kernelspec": {
      "name": "python3",
      "display_name": "Python 3"
    },
    "accelerator": "GPU"
  },
  "cells": [
    {
      "cell_type": "code",
      "metadata": {
        "id": "Xgk5x1ksydFQ",
        "colab_type": "code",
        "colab": {}
      },
      "source": [
        "import math\n",
        "import numpy as np\n",
        "import h5py\n",
        "import matplotlib.pyplot as plt\n",
        "import scipy\n",
        "from PIL import Image\n",
        "from scipy import ndimage\n",
        "import tensorflow as tf\n",
        "from tensorflow.python.framework import ops\n",
        "from tensorflow.keras import datasets, layers, models\n",
        "\n",
        "\n",
        "%matplotlib inline"
      ],
      "execution_count": 18,
      "outputs": []
    },
    {
      "cell_type": "code",
      "metadata": {
        "id": "PHFCKsZ0A-NP",
        "colab_type": "code",
        "colab": {}
      },
      "source": [
        "import keras\n",
        "import numpy as np\n",
        "from keras import layers\n",
        "from keras.layers import Input, Dense, Activation, ZeroPadding2D, BatchNormalization, Flatten, Conv2D\n",
        "from keras.layers import AveragePooling2D, MaxPooling2D, Dropout, GlobalMaxPooling2D, GlobalAveragePooling2D\n",
        "from keras.models import Model\n",
        "from keras.preprocessing import image\n",
        "from keras.utils import layer_utils\n",
        "from keras.utils.data_utils import get_file\n",
        "from keras.applications.imagenet_utils import preprocess_input\n",
        "import pydot\n",
        "from IPython.display import SVG\n",
        "from keras.utils.vis_utils import model_to_dot\n",
        "from keras.utils import plot_model\n",
        "\n",
        "\n",
        "import keras.backend as K\n",
        "K.set_image_data_format('channels_last')\n",
        "import matplotlib.pyplot as plt\n",
        "from matplotlib.pyplot import imshow\n",
        "\n",
        "%matplotlib inline"
      ],
      "execution_count": 19,
      "outputs": []
    },
    {
      "cell_type": "code",
      "metadata": {
        "id": "5J65ySSz0SNt",
        "colab_type": "code",
        "colab": {}
      },
      "source": [
        "(x_train_or, y_train_or), (x_test, y_test) = datasets.mnist.load_data()"
      ],
      "execution_count": 44,
      "outputs": []
    },
    {
      "cell_type": "code",
      "metadata": {
        "id": "XLDbp2kr5EMl",
        "colab_type": "code",
        "colab": {
          "base_uri": "https://localhost:8080/",
          "height": 34
        },
        "outputId": "8dd73bd1-fa53-4dae-8948-bcdfadae82ed"
      },
      "source": [
        "x_train_or.shape"
      ],
      "execution_count": 21,
      "outputs": [
        {
          "output_type": "execute_result",
          "data": {
            "text/plain": [
              "(60000, 28, 28)"
            ]
          },
          "metadata": {
            "tags": []
          },
          "execution_count": 21
        }
      ]
    },
    {
      "cell_type": "code",
      "metadata": {
        "id": "eZR5xKoi57ho",
        "colab_type": "code",
        "colab": {
          "base_uri": "https://localhost:8080/",
          "height": 34
        },
        "outputId": "2d40f540-3161-4931-8370-6f9ececd5757"
      },
      "source": [
        "y_train_or.shape"
      ],
      "execution_count": 22,
      "outputs": [
        {
          "output_type": "execute_result",
          "data": {
            "text/plain": [
              "(60000,)"
            ]
          },
          "metadata": {
            "tags": []
          },
          "execution_count": 22
        }
      ]
    },
    {
      "cell_type": "code",
      "metadata": {
        "id": "WVY52aFv8xTj",
        "colab_type": "code",
        "colab": {}
      },
      "source": [
        "x_train_or=x_train_or.reshape((60000,28,28,1))\n",
        "x_test=x_test.reshape((x_test.shape[0],28,28,1))"
      ],
      "execution_count": 45,
      "outputs": []
    },
    {
      "cell_type": "code",
      "metadata": {
        "id": "DsXaPmQD69IV",
        "colab_type": "code",
        "colab": {
          "base_uri": "https://localhost:8080/",
          "height": 34
        },
        "outputId": "6ec1bc52-6f87-4bdf-f1c7-a65b101617a2"
      },
      "source": [
        "y_train_or.shape"
      ],
      "execution_count": 24,
      "outputs": [
        {
          "output_type": "execute_result",
          "data": {
            "text/plain": [
              "(60000,)"
            ]
          },
          "metadata": {
            "tags": []
          },
          "execution_count": 24
        }
      ]
    },
    {
      "cell_type": "code",
      "metadata": {
        "id": "xKU2ofTd8eeo",
        "colab_type": "code",
        "colab": {}
      },
      "source": [
        "x_train_or=x_train_or/255\n",
        "x_test=x_test/255"
      ],
      "execution_count": 46,
      "outputs": []
    },
    {
      "cell_type": "code",
      "metadata": {
        "id": "or-Sye7nFwVp",
        "colab_type": "code",
        "colab": {}
      },
      "source": [
        "model = models.Sequential()\n",
        "model.add(layers.Conv2D(16, (5, 5), strides=(1, 1),input_shape=(28, 28, 1)))\n",
        "model.add(layers.BatchNormalization(axis=3, name='bn0'))\n",
        "model.add(layers.Activation('relu'))\n",
        "model.add(layers.Dropout(0.5))\n",
        "model.add(layers.Conv2D(32, (7, 7), strides=(1, 1)))\n",
        "model.add(layers.BatchNormalization(axis=3, name='bn1'))\n",
        "model.add(layers.Activation('relu'))\n",
        "model.add(layers.Dropout(0.5))\n",
        "model.add(layers.MaxPooling2D((2, 2), name='max_pool'))\n",
        "model.add(layers.Flatten())\n",
        "model.add(layers.Dense(1024, activation='relu'))\n",
        "model.add(layers.Dense(128, activation='relu'))\n",
        "model.add(layers.Dense(32, activation='relu'))\n",
        "model.add(layers.Dense(10, activation='softmax'))"
      ],
      "execution_count": 61,
      "outputs": []
    },
    {
      "cell_type": "code",
      "metadata": {
        "id": "njfzto-vKWE_",
        "colab_type": "code",
        "colab": {
          "base_uri": "https://localhost:8080/",
          "height": 629
        },
        "outputId": "25fd1b05-ab78-4ec2-ef76-dfbb6c0ef432"
      },
      "source": [
        "model.summary()"
      ],
      "execution_count": 62,
      "outputs": [
        {
          "output_type": "stream",
          "text": [
            "Model: \"sequential_8\"\n",
            "_________________________________________________________________\n",
            "Layer (type)                 Output Shape              Param #   \n",
            "=================================================================\n",
            "conv2d_16 (Conv2D)           (None, 24, 24, 16)        416       \n",
            "_________________________________________________________________\n",
            "bn0 (BatchNormalization)     (None, 24, 24, 16)        64        \n",
            "_________________________________________________________________\n",
            "activation_15 (Activation)   (None, 24, 24, 16)        0         \n",
            "_________________________________________________________________\n",
            "dropout_24 (Dropout)         (None, 24, 24, 16)        0         \n",
            "_________________________________________________________________\n",
            "conv2d_17 (Conv2D)           (None, 18, 18, 32)        25120     \n",
            "_________________________________________________________________\n",
            "bn1 (BatchNormalization)     (None, 18, 18, 32)        128       \n",
            "_________________________________________________________________\n",
            "activation_16 (Activation)   (None, 18, 18, 32)        0         \n",
            "_________________________________________________________________\n",
            "dropout_25 (Dropout)         (None, 18, 18, 32)        0         \n",
            "_________________________________________________________________\n",
            "max_pool (MaxPooling2D)      (None, 9, 9, 32)          0         \n",
            "_________________________________________________________________\n",
            "flatten_7 (Flatten)          (None, 2592)              0         \n",
            "_________________________________________________________________\n",
            "dense_22 (Dense)             (None, 1024)              2655232   \n",
            "_________________________________________________________________\n",
            "dense_23 (Dense)             (None, 128)               131200    \n",
            "_________________________________________________________________\n",
            "dense_24 (Dense)             (None, 32)                4128      \n",
            "_________________________________________________________________\n",
            "dense_25 (Dense)             (None, 10)                330       \n",
            "=================================================================\n",
            "Total params: 2,816,618\n",
            "Trainable params: 2,816,522\n",
            "Non-trainable params: 96\n",
            "_________________________________________________________________\n"
          ],
          "name": "stdout"
        }
      ]
    },
    {
      "cell_type": "code",
      "metadata": {
        "id": "xw5b0AKhLAnR",
        "colab_type": "code",
        "colab": {}
      },
      "source": [
        "model.compile(optimizer='adam',loss='sparse_categorical_crossentropy',metrics=['accuracy'])\n"
      ],
      "execution_count": 63,
      "outputs": []
    },
    {
      "cell_type": "code",
      "metadata": {
        "id": "vdBLbEg0NBji",
        "colab_type": "code",
        "colab": {
          "base_uri": "https://localhost:8080/",
          "height": 34
        },
        "outputId": "92358fb3-eb0c-4ff6-d589-e7a505b8d4aa"
      },
      "source": [
        "x_train_or.shape"
      ],
      "execution_count": 64,
      "outputs": [
        {
          "output_type": "execute_result",
          "data": {
            "text/plain": [
              "(60000, 28, 28, 1)"
            ]
          },
          "metadata": {
            "tags": []
          },
          "execution_count": 64
        }
      ]
    },
    {
      "cell_type": "code",
      "metadata": {
        "id": "eTN13lf2PpOa",
        "colab_type": "code",
        "colab": {
          "base_uri": "https://localhost:8080/",
          "height": 34
        },
        "outputId": "a0efb4f1-c4eb-466f-dbc6-743e20a926af"
      },
      "source": [
        "y_train_or.shape"
      ],
      "execution_count": 65,
      "outputs": [
        {
          "output_type": "execute_result",
          "data": {
            "text/plain": [
              "(60000,)"
            ]
          },
          "metadata": {
            "tags": []
          },
          "execution_count": 65
        }
      ]
    },
    {
      "cell_type": "code",
      "metadata": {
        "id": "YvuR2WTsLzP4",
        "colab_type": "code",
        "colab": {
          "base_uri": "https://localhost:8080/",
          "height": 1000
        },
        "outputId": "aa6ac37c-904f-4cc1-cb73-f5b6552d3215"
      },
      "source": [
        "model.fit(x_train_or,y_train_or,epochs=30,batch_size=32,verbose=1,shuffle = 'TRUE')\n"
      ],
      "execution_count": 66,
      "outputs": [
        {
          "output_type": "stream",
          "text": [
            "Epoch 1/30\n",
            "1875/1875 [==============================] - 12s 6ms/step - loss: 0.3414 - accuracy: 0.8836\n",
            "Epoch 2/30\n",
            "1875/1875 [==============================] - 12s 6ms/step - loss: 0.0681 - accuracy: 0.9801\n",
            "Epoch 3/30\n",
            "1875/1875 [==============================] - 12s 6ms/step - loss: 0.0520 - accuracy: 0.9846\n",
            "Epoch 4/30\n",
            "1875/1875 [==============================] - 12s 6ms/step - loss: 0.0415 - accuracy: 0.9872\n",
            "Epoch 5/30\n",
            "1875/1875 [==============================] - 12s 6ms/step - loss: 0.0367 - accuracy: 0.9890\n",
            "Epoch 6/30\n",
            "1875/1875 [==============================] - 12s 6ms/step - loss: 0.0306 - accuracy: 0.9910\n",
            "Epoch 7/30\n",
            "1875/1875 [==============================] - 12s 6ms/step - loss: 0.0265 - accuracy: 0.9921\n",
            "Epoch 8/30\n",
            "1875/1875 [==============================] - 12s 6ms/step - loss: 0.0232 - accuracy: 0.9932\n",
            "Epoch 9/30\n",
            "1875/1875 [==============================] - 12s 7ms/step - loss: 0.0236 - accuracy: 0.9934\n",
            "Epoch 10/30\n",
            "1875/1875 [==============================] - 12s 6ms/step - loss: 0.0189 - accuracy: 0.9945\n",
            "Epoch 11/30\n",
            "1875/1875 [==============================] - 12s 6ms/step - loss: 0.0173 - accuracy: 0.9949\n",
            "Epoch 12/30\n",
            "1875/1875 [==============================] - 12s 6ms/step - loss: 0.0184 - accuracy: 0.9947\n",
            "Epoch 13/30\n",
            "1875/1875 [==============================] - 12s 6ms/step - loss: 0.0164 - accuracy: 0.9956\n",
            "Epoch 14/30\n",
            "1875/1875 [==============================] - 12s 6ms/step - loss: 0.0137 - accuracy: 0.9958\n",
            "Epoch 15/30\n",
            "1875/1875 [==============================] - 12s 6ms/step - loss: 0.0152 - accuracy: 0.9958\n",
            "Epoch 16/30\n",
            "1875/1875 [==============================] - 12s 6ms/step - loss: 0.0121 - accuracy: 0.9964\n",
            "Epoch 17/30\n",
            "1875/1875 [==============================] - 12s 6ms/step - loss: 0.0142 - accuracy: 0.9960\n",
            "Epoch 18/30\n",
            "1875/1875 [==============================] - 12s 6ms/step - loss: 0.0110 - accuracy: 0.9969\n",
            "Epoch 19/30\n",
            "1875/1875 [==============================] - 12s 6ms/step - loss: 0.0121 - accuracy: 0.9968\n",
            "Epoch 20/30\n",
            "1875/1875 [==============================] - 12s 6ms/step - loss: 0.0108 - accuracy: 0.9973\n",
            "Epoch 21/30\n",
            "1875/1875 [==============================] - 12s 6ms/step - loss: 0.0112 - accuracy: 0.9969\n",
            "Epoch 22/30\n",
            "1875/1875 [==============================] - 12s 6ms/step - loss: 0.0093 - accuracy: 0.9974\n",
            "Epoch 23/30\n",
            "1875/1875 [==============================] - 12s 6ms/step - loss: 0.0114 - accuracy: 0.9970\n",
            "Epoch 24/30\n",
            "1875/1875 [==============================] - 12s 6ms/step - loss: 0.0091 - accuracy: 0.9973\n",
            "Epoch 25/30\n",
            "1875/1875 [==============================] - 12s 6ms/step - loss: 0.0084 - accuracy: 0.9977\n",
            "Epoch 26/30\n",
            "1875/1875 [==============================] - 12s 6ms/step - loss: 0.0090 - accuracy: 0.9979\n",
            "Epoch 27/30\n",
            "1875/1875 [==============================] - 12s 6ms/step - loss: 0.0101 - accuracy: 0.9973\n",
            "Epoch 28/30\n",
            "1875/1875 [==============================] - 12s 6ms/step - loss: 0.0083 - accuracy: 0.9976\n",
            "Epoch 29/30\n",
            "1875/1875 [==============================] - 12s 6ms/step - loss: 0.0081 - accuracy: 0.9978\n",
            "Epoch 30/30\n",
            "1875/1875 [==============================] - 12s 6ms/step - loss: 0.0073 - accuracy: 0.9978\n"
          ],
          "name": "stdout"
        },
        {
          "output_type": "execute_result",
          "data": {
            "text/plain": [
              "<tensorflow.python.keras.callbacks.History at 0x7fe0b02ccb00>"
            ]
          },
          "metadata": {
            "tags": []
          },
          "execution_count": 66
        }
      ]
    },
    {
      "cell_type": "code",
      "metadata": {
        "id": "0ecsjekaMHU8",
        "colab_type": "code",
        "colab": {
          "base_uri": "https://localhost:8080/",
          "height": 34
        },
        "outputId": "b162773d-864f-49da-d9a8-6c513a83c626"
      },
      "source": [
        "pred = model.evaluate(x_test, y_test)\n",
        "accuracy_test=pred[1]"
      ],
      "execution_count": 67,
      "outputs": [
        {
          "output_type": "stream",
          "text": [
            "313/313 [==============================] - 1s 3ms/step - loss: 0.0314 - accuracy: 0.9933\n"
          ],
          "name": "stdout"
        }
      ]
    },
    {
      "cell_type": "code",
      "metadata": {
        "id": "CdQGvthBUkM1",
        "colab_type": "code",
        "colab": {
          "base_uri": "https://localhost:8080/",
          "height": 34
        },
        "outputId": "ad63be01-f8d6-48ae-c685-cc1600b2afdd"
      },
      "source": [
        "accuracy_test"
      ],
      "execution_count": 70,
      "outputs": [
        {
          "output_type": "execute_result",
          "data": {
            "text/plain": [
              "0.9933000206947327"
            ]
          },
          "metadata": {
            "tags": []
          },
          "execution_count": 70
        }
      ]
    },
    {
      "cell_type": "code",
      "metadata": {
        "id": "9cPLpFAPuiGE",
        "colab_type": "code",
        "colab": {}
      },
      "source": [
        "x_test_predict=model.predict(x_test)"
      ],
      "execution_count": 81,
      "outputs": []
    },
    {
      "cell_type": "code",
      "metadata": {
        "id": "drMCeo3eUoNa",
        "colab_type": "code",
        "colab": {
          "base_uri": "https://localhost:8080/",
          "height": 282
        },
        "outputId": "56142a46-ec7d-41fc-a2a3-e301280c4b03"
      },
      "source": [
        "x_temp=x_test[2].reshape((28,28))\n",
        "plt.imshow(x_temp,cmap = 'gist_gray')\n",
        "print(x_test_predict[2].astype(int))"
      ],
      "execution_count": 84,
      "outputs": [
        {
          "output_type": "stream",
          "text": [
            "[0 1 0 0 0 0 0 0 0 0]\n"
          ],
          "name": "stdout"
        },
        {
          "output_type": "display_data",
          "data": {
            "image/png": "[encoded data removed]",
            "text/plain": [
              "<Figure size 432x288 with 1 Axes>"
            ]
          },
          "metadata": {
            "tags": [],
            "needs_background": "light"
          }
        }
      ]
    },
    {
      "cell_type": "code",
      "metadata": {
        "id": "WWVNjeJltJGF",
        "colab_type": "code",
        "colab": {}
      },
      "source": [
        "import pandas as pd"
      ],
      "execution_count": 85,
      "outputs": []
    },
    {
      "cell_type": "code",
      "metadata": {
        "id": "V1vLHw0Ivnn7",
        "colab_type": "code",
        "colab": {}
      },
      "source": [
        "df=pd.DataFrame(x_test_predict)"
      ],
      "execution_count": 86,
      "outputs": []
    },
    {
      "cell_type": "code",
      "metadata": {
        "id": "o4bVF63Vvsc5",
        "colab_type": "code",
        "colab": {
          "base_uri": "https://localhost:8080/",
          "height": 419
        },
        "outputId": "ba10db8f-aabd-4d03-e3ce-7a5dbd5ca9e4"
      },
      "source": [
        "df=df.astype(int)\n",
        "df"
      ],
      "execution_count": 88,
      "outputs": [
        {
          "output_type": "execute_result",
          "data": {
            "text/html": [
              "<div>\n",
              "<style scoped>\n",
              "    .dataframe tbody tr th:only-of-type {\n",
              "        vertical-align: middle;\n",
              "    }\n",
              "\n",
              "    .dataframe tbody tr th {\n",
              "        vertical-align: top;\n",
              "    }\n",
              "\n",
              "    .dataframe thead th {\n",
              "        text-align: right;\n",
              "    }\n",
              "</style>\n",
              "<table border=\"1\" class=\"dataframe\">\n",
              "  <thead>\n",
              "    <tr style=\"text-align: right;\">\n",
              "      <th></th>\n",
              "      <th>0</th>\n",
              "      <th>1</th>\n",
              "      <th>2</th>\n",
              "      <th>3</th>\n",
              "      <th>4</th>\n",
              "      <th>5</th>\n",
              "      <th>6</th>\n",
              "      <th>7</th>\n",
              "      <th>8</th>\n",
              "      <th>9</th>\n",
              "    </tr>\n",
              "  </thead>\n",
              "  <tbody>\n",
              "    <tr>\n",
              "      <th>0</th>\n",
              "      <td>0</td>\n",
              "      <td>0</td>\n",
              "      <td>0</td>\n",
              "      <td>0</td>\n",
              "      <td>0</td>\n",
              "      <td>0</td>\n",
              "      <td>0</td>\n",
              "      <td>1</td>\n",
              "      <td>0</td>\n",
              "      <td>0</td>\n",
              "    </tr>\n",
              "    <tr>\n",
              "      <th>1</th>\n",
              "      <td>0</td>\n",
              "      <td>0</td>\n",
              "      <td>1</td>\n",
              "      <td>0</td>\n",
              "      <td>0</td>\n",
              "      <td>0</td>\n",
              "      <td>0</td>\n",
              "      <td>0</td>\n",
              "      <td>0</td>\n",
              "      <td>0</td>\n",
              "    </tr>\n",
              "    <tr>\n",
              "      <th>2</th>\n",
              "      <td>0</td>\n",
              "      <td>1</td>\n",
              "      <td>0</td>\n",
              "      <td>0</td>\n",
              "      <td>0</td>\n",
              "      <td>0</td>\n",
              "      <td>0</td>\n",
              "      <td>0</td>\n",
              "      <td>0</td>\n",
              "      <td>0</td>\n",
              "    </tr>\n",
              "    <tr>\n",
              "      <th>3</th>\n",
              "      <td>0</td>\n",
              "      <td>0</td>\n",
              "      <td>0</td>\n",
              "      <td>0</td>\n",
              "      <td>0</td>\n",
              "      <td>0</td>\n",
              "      <td>0</td>\n",
              "      <td>0</td>\n",
              "      <td>0</td>\n",
              "      <td>0</td>\n",
              "    </tr>\n",
              "    <tr>\n",
              "      <th>4</th>\n",
              "      <td>0</td>\n",
              "      <td>0</td>\n",
              "      <td>0</td>\n",
              "      <td>0</td>\n",
              "      <td>0</td>\n",
              "      <td>0</td>\n",
              "      <td>0</td>\n",
              "      <td>0</td>\n",
              "      <td>0</td>\n",
              "      <td>0</td>\n",
              "    </tr>\n",
              "    <tr>\n",
              "      <th>...</th>\n",
              "      <td>...</td>\n",
              "      <td>...</td>\n",
              "      <td>...</td>\n",
              "      <td>...</td>\n",
              "      <td>...</td>\n",
              "      <td>...</td>\n",
              "      <td>...</td>\n",
              "      <td>...</td>\n",
              "      <td>...</td>\n",
              "      <td>...</td>\n",
              "    </tr>\n",
              "    <tr>\n",
              "      <th>9995</th>\n",
              "      <td>0</td>\n",
              "      <td>0</td>\n",
              "      <td>1</td>\n",
              "      <td>0</td>\n",
              "      <td>0</td>\n",
              "      <td>0</td>\n",
              "      <td>0</td>\n",
              "      <td>0</td>\n",
              "      <td>0</td>\n",
              "      <td>0</td>\n",
              "    </tr>\n",
              "    <tr>\n",
              "      <th>9996</th>\n",
              "      <td>0</td>\n",
              "      <td>0</td>\n",
              "      <td>0</td>\n",
              "      <td>0</td>\n",
              "      <td>0</td>\n",
              "      <td>0</td>\n",
              "      <td>0</td>\n",
              "      <td>0</td>\n",
              "      <td>0</td>\n",
              "      <td>0</td>\n",
              "    </tr>\n",
              "    <tr>\n",
              "      <th>9997</th>\n",
              "      <td>0</td>\n",
              "      <td>0</td>\n",
              "      <td>0</td>\n",
              "      <td>0</td>\n",
              "      <td>1</td>\n",
              "      <td>0</td>\n",
              "      <td>0</td>\n",
              "      <td>0</td>\n",
              "      <td>0</td>\n",
              "      <td>0</td>\n",
              "    </tr>\n",
              "    <tr>\n",
              "      <th>9998</th>\n",
              "      <td>0</td>\n",
              "      <td>0</td>\n",
              "      <td>0</td>\n",
              "      <td>0</td>\n",
              "      <td>0</td>\n",
              "      <td>0</td>\n",
              "      <td>0</td>\n",
              "      <td>0</td>\n",
              "      <td>0</td>\n",
              "      <td>0</td>\n",
              "    </tr>\n",
              "    <tr>\n",
              "      <th>9999</th>\n",
              "      <td>0</td>\n",
              "      <td>0</td>\n",
              "      <td>0</td>\n",
              "      <td>0</td>\n",
              "      <td>0</td>\n",
              "      <td>0</td>\n",
              "      <td>1</td>\n",
              "      <td>0</td>\n",
              "      <td>0</td>\n",
              "      <td>0</td>\n",
              "    </tr>\n",
              "  </tbody>\n",
              "</table>\n",
              "<p>10000 rows × 10 columns</p>\n",
              "</div>"
            ],
            "text/plain": [
              "      0  1  2  3  4  5  6  7  8  9\n",
              "0     0  0  0  0  0  0  0  1  0  0\n",
              "1     0  0  1  0  0  0  0  0  0  0\n",
              "2     0  1  0  0  0  0  0  0  0  0\n",
              "3     0  0  0  0  0  0  0  0  0  0\n",
              "4     0  0  0  0  0  0  0  0  0  0\n",
              "...  .. .. .. .. .. .. .. .. .. ..\n",
              "9995  0  0  1  0  0  0  0  0  0  0\n",
              "9996  0  0  0  0  0  0  0  0  0  0\n",
              "9997  0  0  0  0  1  0  0  0  0  0\n",
              "9998  0  0  0  0  0  0  0  0  0  0\n",
              "9999  0  0  0  0  0  0  1  0  0  0\n",
              "\n",
              "[10000 rows x 10 columns]"
            ]
          },
          "metadata": {
            "tags": []
          },
          "execution_count": 88
        }
      ]
    },
    {
      "cell_type": "code",
      "metadata": {
        "id": "k0njDtcyw0Ds",
        "colab_type": "code",
        "colab": {}
      },
      "source": [
        "model.save_weights('model.h5')"
      ],
      "execution_count": 90,
      "outputs": []
    },
    {
      "cell_type": "code",
      "metadata": {
        "id": "A9-rwI4sw8FS",
        "colab_type": "code",
        "colab": {}
      },
      "source": [
        ""
      ],
      "execution_count": null,
      "outputs": []
    }
  ]
}